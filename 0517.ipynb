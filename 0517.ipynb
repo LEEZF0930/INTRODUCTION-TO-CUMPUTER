{
  "nbformat": 4,
  "nbformat_minor": 0,
  "metadata": {
    "colab": {
      "provenance": [],
      "authorship_tag": "ABX9TyOTIojA0g898jr2qWRe75lX",
      "include_colab_link": true
    },
    "kernelspec": {
      "name": "python3",
      "display_name": "Python 3"
    },
    "language_info": {
      "name": "python"
    }
  },
  "cells": [
    {
      "cell_type": "markdown",
      "metadata": {
        "id": "view-in-github",
        "colab_type": "text"
      },
      "source": [
        "<a href=\"https://colab.research.google.com/github/LEEZF0930/INTRODUCTION-TO-CUMPUTER/blob/main/0517.ipynb\" target=\"_parent\"><img src=\"https://colab.research.google.com/assets/colab-badge.svg\" alt=\"Open In Colab\"/></a>"
      ]
    },
    {
      "cell_type": "code",
      "source": [
        "print(\"0517\")"
      ],
      "metadata": {
        "colab": {
          "base_uri": "https://localhost:8080/"
        },
        "id": "w9haz-EI_hAk",
        "outputId": "83999978-a378-4fa1-83bf-2d22b3dd32a6"
      },
      "execution_count": null,
      "outputs": [
        {
          "output_type": "stream",
          "name": "stdout",
          "text": [
            "0517\n"
          ]
        }
      ]
    },
    {
      "cell_type": "code",
      "execution_count": null,
      "metadata": {
        "colab": {
          "base_uri": "https://localhost:8080/"
        },
        "id": "UO050VE1-f7R",
        "outputId": "6189ebe4-6b37-4595-d06c-a642b7e04a76"
      },
      "outputs": [
        {
          "output_type": "stream",
          "name": "stdout",
          "text": [
            "score: 50\n",
            "Grade is: F\n"
          ]
        }
      ],
      "source": [
        "score = int(input(\"score: \"))\n",
        "if score >= 90:\n",
        "  print('Grade is: A')\n",
        "elif score >= 80:\n",
        "    print('Grade is: B')\n",
        "elif score >= 70:\n",
        "    print('Grade is: C')\n",
        "elif score >= 60:\n",
        "    print('Grade is: D')\n",
        "else:\n",
        "    print('Grade is: F')"
      ]
    },
    {
      "cell_type": "code",
      "source": [
        "rain = str(input(\"今天會下雨嗎?\"))\n",
        "if rain == \"y\" :\n",
        "  print(\"出門記得帶傘\")\n",
        "elif rain == \"n\" :\n",
        "  print(\"不用帶傘\")\n",
        "else:\n",
        "  print(\"請重新輸入\")"
      ],
      "metadata": {
        "colab": {
          "base_uri": "https://localhost:8080/"
        },
        "id": "sMrzIaQQ_pNx",
        "outputId": "6cd90268-2506-40d0-fd36-65a14c6a8fa0"
      },
      "execution_count": null,
      "outputs": [
        {
          "output_type": "stream",
          "name": "stdout",
          "text": [
            "今天會下雨嗎?N\n",
            "出門記得帶傘\n"
          ]
        }
      ]
    },
    {
      "cell_type": "code",
      "source": [
        "tem = float(input(\"請輸入體溫:\"))\n",
        "if tem >= 37.5:\n",
        "  print(\"體溫過高!\")\n",
        "elif tem <= 37.4 and tem >= 37:\n",
        "  print(\"體溫略高!\")\n",
        "elif tem >= 34 and tem <= 36.9:\n",
        "  print(\"體溫正常!\")\n",
        "else:\n",
        "  print(\"體溫異常，請重新量測!\")"
      ],
      "metadata": {
        "colab": {
          "base_uri": "https://localhost:8080/"
        },
        "id": "XHW-oU1-Ey4a",
        "outputId": "5a9b0760-eb74-4da0-c56e-a875ca30eb77"
      },
      "execution_count": null,
      "outputs": [
        {
          "output_type": "stream",
          "name": "stdout",
          "text": [
            "請輸入體溫:35.8\n",
            "體溫正常!\n"
          ]
        }
      ]
    },
    {
      "cell_type": "code",
      "source": [
        "score = int(input(\"score: \"))\n",
        "if score >= 90:\n",
        "  print('A')\n",
        "elif score >= 80:\n",
        "    print('B')\n",
        "elif score >= 70:\n",
        "    print('C')\n",
        "elif score >= 60:\n",
        "    print('D')\n",
        "else:\n",
        "    print('E')"
      ],
      "metadata": {
        "colab": {
          "base_uri": "https://localhost:8080/"
        },
        "id": "j-Dl18jQITgR",
        "outputId": "b7873ff8-ffca-47ea-f850-c2a6583170a9"
      },
      "execution_count": null,
      "outputs": [
        {
          "output_type": "stream",
          "name": "stdout",
          "text": [
            "score: 62\n",
            "D\n"
          ]
        }
      ]
    },
    {
      "cell_type": "code",
      "source": [
        "mon = int(input(\"請輸入月份:\"))\n",
        "if mon in (3,4,5):\n",
        "  print(mon,\"月是春天!\")\n",
        "elif mon in (6,7,8):\n",
        "  print(mon,\"月是夏天!\")\n",
        "elif mon in (9,10,11):\n",
        "  print(mon,\"月是秋天!\")\n",
        "elif mon in (12,1,2):\n",
        "  print(mon,\"月是冬天!\")\n",
        "else:\n",
        "  print(\"月份不在範圍內!\")"
      ],
      "metadata": {
        "colab": {
          "base_uri": "https://localhost:8080/"
        },
        "id": "QE8OC84aJhIb",
        "outputId": "55242847-6ef7-4ca4-9eee-c5cb6fb0df1e"
      },
      "execution_count": null,
      "outputs": [
        {
          "output_type": "stream",
          "name": "stdout",
          "text": [
            "請輸入月份:5\n",
            "5 月是春天!\n"
          ]
        }
      ]
    },
    {
      "cell_type": "code",
      "source": [
        "money = int(input(\"請收入今年收入淨額:\"))\n",
        "if money >= 2000000:\n",
        "  tax_rate = 0.3\n",
        "elif money >= 1000000:\n",
        "  tax_rate = 0.21\n",
        "elif money >= 600000:\n",
        "  tax_rate = 0.13\n",
        "elif money >= 300000:\n",
        "  tax_rate = 0.6\n",
        "else:\n",
        "  tax_rate = 0\n",
        "tax_amount = money * tax_rate\n",
        "print(\"付出金額:\",tax_amount,\"元\")"
      ],
      "metadata": {
        "colab": {
          "base_uri": "https://localhost:8080/"
        },
        "id": "qpEdmE8GLP1B",
        "outputId": "66cb1980-4a99-4ae5-facd-618b17a76292"
      },
      "execution_count": null,
      "outputs": [
        {
          "output_type": "stream",
          "name": "stdout",
          "text": [
            "請收入今年收入淨額:100000\n",
            "付出金額: 0 元\n"
          ]
        }
      ]
    },
    {
      "cell_type": "code",
      "source": [
        "money = int(input(\"請收入今年收入淨額:\"))\n",
        "if money >= 2000000:\n",
        "  tax_rate = 0.3\n",
        "elif money >= 1000000:\n",
        "  tax_rate = 0.21\n",
        "elif money >= 600000:\n",
        "  tax_rate = 0.13\n",
        "elif money >= 300000:\n",
        "  tax_rate = 0.6\n",
        "else:\n",
        "  tax_rate = 0\n",
        "tax_amount = money * tax_rate\n",
        "print(\"付出金額:\",tax_amount,\"元\")"
      ],
      "metadata": {
        "colab": {
          "base_uri": "https://localhost:8080/"
        },
        "id": "Q6gaqOxxNEo5",
        "outputId": "2f67959f-dd76-41d1-c0be-a94f837c9f33"
      },
      "execution_count": null,
      "outputs": [
        {
          "output_type": "stream",
          "name": "stdout",
          "text": [
            "請收入今年收入淨額:2000000\n",
            "付出金額: 600000.0 元\n"
          ]
        }
      ]
    }
  ]
}